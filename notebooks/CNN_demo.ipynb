{
 "cells": [
  {
   "cell_type": "code",
   "execution_count": 3,
   "metadata": {},
   "outputs": [],
   "source": [
    "from tensorflow.keras.models import load_model\n",
    "from tensorflow.keras.preprocessing import image\n",
    "import matplotlib.pyplot as plt\n",
    "import numpy as np\n",
    "import glob\n",
    "import os\n",
    "import sys\n",
    "from skimage import io, color, filters, feature, restoration"
   ]
  },
  {
   "cell_type": "code",
   "execution_count": 4,
   "metadata": {},
   "outputs": [],
   "source": [
    "import sys\n",
    "sys.path.append(\"..\")"
   ]
  },
  {
   "cell_type": "code",
   "execution_count": 6,
   "metadata": {},
   "outputs": [],
   "source": [
    "from src.standardizer import Standardizer\n",
    "from src.imageData_generator import ImageGenerator"
   ]
  },
  {
   "cell_type": "code",
   "execution_count": 11,
   "metadata": {},
   "outputs": [
    {
     "name": "stdout",
     "output_type": "stream",
     "text": [
      "Loading model\n",
      "Loading resized images\n"
     ]
    }
   ],
   "source": [
    "print('Loading model')\n",
    "model_path = '../models/models/CNN_E100_Batch10_Filters64_Neurons64_Actrelu_Layers_3.h5'\n",
    "\n",
    "print('Loading resized images')\n",
    "resized_imgs = glob.glob('data/medium/*')\n",
    "\n"
   ]
  },
  {
   "cell_type": "code",
   "execution_count": null,
   "metadata": {},
   "outputs": [],
   "source": []
  },
  {
   "cell_type": "code",
   "execution_count": 17,
   "metadata": {},
   "outputs": [
    {
     "name": "stdout",
     "output_type": "stream",
     "text": [
      "Subset the images that we want, the ones we trained the model on\n",
      "Standardize the images\n",
      "Select the image we want to scrub\n",
      "403_img\n"
     ]
    }
   ],
   "source": [
    "print('Subset the images that we want, the ones we trained the model on')\n",
    "img_list = [164, 202, 425, 345, 139, 72, 311, 363, 403, 509, 362, 257, 175, 203, 47, 183, 0, 297, 34, 8, 320, 197, 293, 450, 215, 28, 74]\n",
    "img_subset = []\n",
    "for img in resized_imgs:\n",
    "    img_idx = int(img.split('/')[2].split('_')[0])\n",
    "    if img_idx in img_list:\n",
    "        img_subset.append(img)\n",
    "\n",
    "print('Standardize the images')\n",
    "standardizer_subset = Standardizer(img_subset, resized_imgs[3])\n",
    "\n",
    "print('Select the image we want to scrub')\n",
    "bin_image = standardizer_subset.binarized_images[8]\n",
    "grey_image = standardizer_subset.greyscale_image_list[8]\n",
    "img_name = standardizer_subset.image_list[8].split('/')[2].split('.')[0]\n",
    "print(img_name)"
   ]
  },
  {
   "cell_type": "code",
   "execution_count": null,
   "metadata": {},
   "outputs": [],
   "source": []
  }
 ],
 "metadata": {
  "kernelspec": {
   "display_name": "Python 3",
   "language": "python",
   "name": "python3"
  },
  "language_info": {
   "codemirror_mode": {
    "name": "ipython",
    "version": 3
   },
   "file_extension": ".py",
   "mimetype": "text/x-python",
   "name": "python",
   "nbconvert_exporter": "python",
   "pygments_lexer": "ipython3",
   "version": "3.7.0"
  }
 },
 "nbformat": 4,
 "nbformat_minor": 2
}
