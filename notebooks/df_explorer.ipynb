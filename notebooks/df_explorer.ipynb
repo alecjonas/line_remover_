{
 "cells": [
  {
   "cell_type": "code",
   "execution_count": 50,
   "metadata": {},
   "outputs": [],
   "source": [
    "import numpy as np\n",
    "import matplotlib.pyplot as plt\n",
    "import glob\n",
    "import pandas as pd\n",
    "%matplotlib inline \n",
    "\n",
    "from skimage import io, color, filters, feature, restoration\n",
    "from skimage.transform import resize, rotate\n",
    "from skimage.color import rgb2gray\n",
    "from scipy.spatial.distance import squareform\n",
    "from scipy.misc import imread\n",
    "from transparent_imshow import transp_imshow\n",
    "import matplotlib.cm as cm\n",
    "from scipy import ndimage, misc\n",
    "\n",
    "import sys\n",
    "sys.path.append(\"..\")\n"
   ]
  },
  {
   "cell_type": "code",
   "execution_count": 51,
   "metadata": {},
   "outputs": [],
   "source": [
    "from src.merge_dfs import merge"
   ]
  },
  {
   "cell_type": "code",
   "execution_count": 52,
   "metadata": {},
   "outputs": [],
   "source": [
    "all_files = glob.glob('../data/classification/*')"
   ]
  },
  {
   "cell_type": "code",
   "execution_count": 53,
   "metadata": {},
   "outputs": [
    {
     "data": {
      "text/plain": [
       "425"
      ]
     },
     "execution_count": 53,
     "metadata": {},
     "output_type": "execute_result"
    }
   ],
   "source": [
    "int(all_files[1].split('/')[3].split('_')[0])"
   ]
  },
  {
   "cell_type": "code",
   "execution_count": 54,
   "metadata": {},
   "outputs": [],
   "source": [
    "whitespace_dict = {164: 200.2, 202: 200.5, 425: 208., 345: 237.4, 72: 216.2, 363: 247.7, 509: 207.9, 257: 201.2, 203: 250.8, 183: 252.4}\n",
    "files_by_img_dict = {k: [] for k in whitespace_dict.keys()}"
   ]
  },
  {
   "cell_type": "code",
   "execution_count": 55,
   "metadata": {},
   "outputs": [
    {
     "data": {
      "text/plain": [
       "{164: [],\n",
       " 202: [],\n",
       " 425: [],\n",
       " 345: [],\n",
       " 72: [],\n",
       " 363: [],\n",
       " 509: [],\n",
       " 257: [],\n",
       " 203: [],\n",
       " 183: []}"
      ]
     },
     "execution_count": 55,
     "metadata": {},
     "output_type": "execute_result"
    }
   ],
   "source": [
    "files_by_img_dict"
   ]
  },
  {
   "cell_type": "code",
   "execution_count": 56,
   "metadata": {},
   "outputs": [],
   "source": [
    "for file in all_files:\n",
    "    file_key = int(file.split('/')[3].split('_')[0])\n",
    "    files_by_img_dict[file_key].append(file)"
   ]
  },
  {
   "cell_type": "code",
   "execution_count": 57,
   "metadata": {},
   "outputs": [
    {
     "data": {
      "text/plain": [
       "{164: ['../data/classification/164_img_239.csv',\n",
       "  '../data/classification/164_img_95.csv',\n",
       "  '../data/classification/164_img_423.csv',\n",
       "  '../data/classification/164_img_342.csv'],\n",
       " 202: ['../data/classification/202_img_103.csv',\n",
       "  '../data/classification/202_img_370.csv',\n",
       "  '../data/classification/202_img_405.csv',\n",
       "  '../data/classification/202_img_450.csv'],\n",
       " 425: ['../data/classification/425_img_119.csv',\n",
       "  '../data/classification/425_img_120.csv',\n",
       "  '../data/classification/425_img_350.csv',\n",
       "  '../data/classification/425_img_472.csv',\n",
       "  '../data/classification/425_img_473.csv'],\n",
       " 345: ['../data/classification/345_img_293.csv',\n",
       "  '../data/classification/345_img_292.csv',\n",
       "  '../data/classification/345_img_337.csv',\n",
       "  '../data/classification/345_img_382.csv',\n",
       "  '../data/classification/345_img_410.csv'],\n",
       " 72: ['../data/classification/72_img_392.csv',\n",
       "  '../data/classification/72_img_164.csv'],\n",
       " 363: ['../data/classification/363_img_416.csv',\n",
       "  '../data/classification/363_img_300.csv',\n",
       "  '../data/classification/363_img_183.csv',\n",
       "  '../data/classification/363_img_422.csv'],\n",
       " 509: ['../data/classification/509_img_397.csv',\n",
       "  '../data/classification/509_img_145.csv',\n",
       "  '../data/classification/509_img_190.csv',\n",
       "  '../data/classification/509_img_393.csv'],\n",
       " 257: ['../data/classification/257_img_430.csv',\n",
       "  '../data/classification/257_img_439.csv',\n",
       "  '../data/classification/257_img_404.csv',\n",
       "  '../data/classification/257_img_310.csv',\n",
       "  '../data/classification/257_img_470.csv'],\n",
       " 203: ['../data/classification/203_img_413.csv'],\n",
       " 183: ['../data/classification/183_img_300.csv',\n",
       "  '../data/classification/183_img_359.csv',\n",
       "  '../data/classification/183_img_420.csv']}"
      ]
     },
     "execution_count": 57,
     "metadata": {},
     "output_type": "execute_result"
    }
   ],
   "source": [
    "files_by_img_dict"
   ]
  },
  {
   "cell_type": "code",
   "execution_count": 58,
   "metadata": {},
   "outputs": [],
   "source": [
    "df_164 = merge(files_by_img_dict[164])\n",
    "df_202 = merge(files_by_img_dict[202])\n",
    "df_425 = merge(files_by_img_dict[425])\n",
    "df_345 = merge(files_by_img_dict[345])\n",
    "df_72 = merge(files_by_img_dict[72])\n",
    "df_363 = merge(files_by_img_dict[363])\n",
    "df_509 = merge(files_by_img_dict[509])\n",
    "df_257 = merge(files_by_img_dict[257])\n",
    "df_203 = merge(files_by_img_dict[203])\n",
    "df_183 = merge(files_by_img_dict[183])\n",
    "whitespace_dict = {164: 200.2, 202: 200.5, 425: 208., 345: 237.4, 72: 216.2, 363: 247.7, 509: 207.9, 257: 201.2, 203: 250.8, 183: 252.4}\n",
    "df_dict = {164: [df_164, 200.2], 202: [df_202, 200.5], 425: [df_425, 208.], 345: [df_345, 237.4], 72: [df_72, 216.2], 363: [df_363, 247.7], 509: [df_509, 207.9], 257: [df_257, 201.2], 203: [df_203, 250.8], 183: [df_183, 252.4]}"
   ]
  },
  {
   "cell_type": "code",
   "execution_count": 59,
   "metadata": {},
   "outputs": [],
   "source": [
    "def add_pixel_difference(df, pixel):\n",
    "    df['pixel_diff'] = df.gray_pixel_value.apply(lambda x: pixel - x)\n",
    "    df['mean_pixel_diff'] = df.mean_gray_pixel_value.apply(lambda x: pixel - x)"
   ]
  },
  {
   "cell_type": "code",
   "execution_count": 60,
   "metadata": {},
   "outputs": [],
   "source": [
    "for key, item in df_dict.items():\n",
    "    add_pixel_difference(item[0], item[1])"
   ]
  },
  {
   "cell_type": "code",
   "execution_count": 61,
   "metadata": {},
   "outputs": [],
   "source": [
    "result_df_list = []\n",
    "for key in df_dict.keys():\n",
    "    df = df_dict[key][0]\n",
    "    result_df_list.append(df)"
   ]
  },
  {
   "cell_type": "code",
   "execution_count": 62,
   "metadata": {},
   "outputs": [],
   "source": [
    "result = pd.concat(result_df_list, axis=0, ignore_index=True)"
   ]
  },
  {
   "cell_type": "code",
   "execution_count": 63,
   "metadata": {},
   "outputs": [],
   "source": [
    "lines = result[result.label == 1]\n",
    "drawings = result[result.label == 0]"
   ]
  },
  {
   "cell_type": "code",
   "execution_count": 64,
   "metadata": {},
   "outputs": [
    {
     "data": {
      "text/plain": [
       "<matplotlib.legend.Legend at 0x1c22bcd240>"
      ]
     },
     "execution_count": 64,
     "metadata": {},
     "output_type": "execute_result"
    },
    {
     "data": {
      "image/png": "[encoded data removed]",
      "text/plain": [
       "<Figure size 1440x720 with 4 Axes>"
      ]
     },
     "metadata": {
      "needs_background": "light"
     },
     "output_type": "display_data"
    }
   ],
   "source": [
    "fig, ax = plt.subplots(2, 2, figsize=(20, 10))\n",
    "\n",
    "ax[0][0].hist(lines.gray_pixel_value, alpha=0.5, label = 'Lines')\n",
    "ax[0][0].hist(drawings.gray_pixel_value, alpha=0.5, label = 'Drawings')\n",
    "ax[0][0].set_title('Central Pixel Value Distributions', fontsize=20)\n",
    "ax[0][0].legend()\n",
    "ax[0][1].hist(lines.mean_gray_pixel_value, alpha=0.5, label = 'Lines')\n",
    "ax[0][1].hist(drawings.mean_gray_pixel_value, alpha=0.5, label = 'Drawings')\n",
    "ax[0][1].set_title('Mean Pixel Value Distributions', fontsize=20)\n",
    "ax[0][1].legend()\n",
    "ax[1][0].hist(lines.bin_percentage_colored, alpha=0.5, label = 'Lines')\n",
    "ax[1][0].hist(drawings.bin_percentage_colored, alpha=0.5, label = 'Drawings')\n",
    "ax[1][0].set_title('Percentage Colored Distribution - Binary Images', fontsize=20)\n",
    "ax[1][0].legend()\n",
    "ax[1][1].hist(lines.sobel_gradient, alpha=0.5, label = 'Lines', bins = 50)\n",
    "ax[1][1].hist(drawings.sobel_gradient, alpha=0.5, label = 'Drawings', bins = 50)\n",
    "ax[1][1].set_title('Sobel Gradient Distribution - Grayscale Images', fontsize=20)\n",
    "ax[1][1].legend()\n"
   ]
  },
  {
   "cell_type": "code",
   "execution_count": 66,
   "metadata": {},
   "outputs": [
    {
     "data": {
      "text/plain": [
       "<matplotlib.legend.Legend at 0x1c236dce10>"
      ]
     },
     "execution_count": 66,
     "metadata": {},
     "output_type": "execute_result"
    },
    {
     "data": {
      "image/png": "[encoded data removed]",
      "text/plain": [
       "<Figure size 1440x720 with 4 Axes>"
      ]
     },
     "metadata": {
      "needs_background": "light"
     },
     "output_type": "display_data"
    }
   ],
   "source": [
    "fig, ax = plt.subplots(2, 2, figsize=(20, 10))\n",
    "\n",
    "ax[0][0].hist(lines.pixel_diff, alpha=0.5, label = 'Lines')\n",
    "ax[0][0].hist(drawings.pixel_diff, alpha=0.5, label = 'Drawings')\n",
    "ax[0][0].set_title('Central Pixel Difference From Whitespace', fontsize=20)\n",
    "ax[0][0].legend()\n",
    "ax[0][1].hist(lines.mean_pixel_diff, alpha=0.5, label = 'Lines')\n",
    "ax[0][1].hist(drawings.mean_pixel_diff, alpha=0.5, label = 'Drawings')\n",
    "ax[0][1].set_title('Mean Pixel Value Distributions', fontsize=20)\n",
    "ax[0][1].legend()\n",
    "ax[1][0].hist(lines.mean_pixel_diff, alpha=0.5, label = 'Lines')\n",
    "ax[1][0].hist(drawings.mean_pixel_diff, alpha=0.5, label = 'Drawings')\n",
    "ax[1][0].set_title('Percentage Colored Distribution - Binary Images', fontsize=20)\n",
    "ax[1][0].legend()\n",
    "ax[1][1].hist(lines.sobel_gradient, alpha=0.5, label = 'Lines', bins = 50)\n",
    "ax[1][1].hist(drawings.sobel_gradient, alpha=0.5, label = 'Drawings', bins = 50)\n",
    "ax[1][1].set_title('Sobel Gradient Distribution - Grayscale Images', fontsize=20)\n",
    "ax[1][1].legend()\n"
   ]
  },
  {
   "cell_type": "code",
   "execution_count": 68,
   "metadata": {},
   "outputs": [],
   "source": [
    "result.to_csv('../data/classification/result.csv', columns = result.columns)"
   ]
  },
  {
   "cell_type": "code",
   "execution_count": 69,
   "metadata": {},
   "outputs": [
    {
     "data": {
      "text/html": [
       "<div>\n",
       "<style scoped>\n",
       "    .dataframe tbody tr th:only-of-type {\n",
       "        vertical-align: middle;\n",
       "    }\n",
       "\n",
       "    .dataframe tbody tr th {\n",
       "        vertical-align: top;\n",
       "    }\n",
       "\n",
       "    .dataframe thead th {\n",
       "        text-align: right;\n",
       "    }\n",
       "</style>\n",
       "<table border=\"1\" class=\"dataframe\">\n",
       "  <thead>\n",
       "    <tr style=\"text-align: right;\">\n",
       "      <th></th>\n",
       "      <th>gray_pixel_value</th>\n",
       "      <th>mean_gray_pixel_value</th>\n",
       "      <th>bin_percentage_colored</th>\n",
       "      <th>sobel_gradient</th>\n",
       "      <th>label</th>\n",
       "      <th>label_t1</th>\n",
       "      <th>label_t2</th>\n",
       "      <th>label_t3</th>\n",
       "      <th>pixel_diff</th>\n",
       "      <th>mean_pixel_diff</th>\n",
       "    </tr>\n",
       "  </thead>\n",
       "  <tbody>\n",
       "    <tr>\n",
       "      <td>0</td>\n",
       "      <td>199.0</td>\n",
       "      <td>218.904444</td>\n",
       "      <td>0.025556</td>\n",
       "      <td>0.107143</td>\n",
       "      <td>1</td>\n",
       "      <td>-1.0</td>\n",
       "      <td>-1.0</td>\n",
       "      <td>-1.0</td>\n",
       "      <td>1.2</td>\n",
       "      <td>-18.704444</td>\n",
       "    </tr>\n",
       "    <tr>\n",
       "      <td>1</td>\n",
       "      <td>196.0</td>\n",
       "      <td>213.333333</td>\n",
       "      <td>0.031111</td>\n",
       "      <td>0.107143</td>\n",
       "      <td>1</td>\n",
       "      <td>1.0</td>\n",
       "      <td>-1.0</td>\n",
       "      <td>-1.0</td>\n",
       "      <td>4.2</td>\n",
       "      <td>-13.133333</td>\n",
       "    </tr>\n",
       "    <tr>\n",
       "      <td>2</td>\n",
       "      <td>194.0</td>\n",
       "      <td>207.853333</td>\n",
       "      <td>0.037778</td>\n",
       "      <td>0.107143</td>\n",
       "      <td>1</td>\n",
       "      <td>1.0</td>\n",
       "      <td>1.0</td>\n",
       "      <td>-1.0</td>\n",
       "      <td>6.2</td>\n",
       "      <td>-7.653333</td>\n",
       "    </tr>\n",
       "    <tr>\n",
       "      <td>3</td>\n",
       "      <td>198.0</td>\n",
       "      <td>204.863333</td>\n",
       "      <td>0.063333</td>\n",
       "      <td>0.107143</td>\n",
       "      <td>1</td>\n",
       "      <td>1.0</td>\n",
       "      <td>1.0</td>\n",
       "      <td>1.0</td>\n",
       "      <td>2.2</td>\n",
       "      <td>-4.663333</td>\n",
       "    </tr>\n",
       "    <tr>\n",
       "      <td>4</td>\n",
       "      <td>199.0</td>\n",
       "      <td>201.814444</td>\n",
       "      <td>0.116667</td>\n",
       "      <td>0.107143</td>\n",
       "      <td>1</td>\n",
       "      <td>1.0</td>\n",
       "      <td>1.0</td>\n",
       "      <td>1.0</td>\n",
       "      <td>1.2</td>\n",
       "      <td>-1.614444</td>\n",
       "    </tr>\n",
       "    <tr>\n",
       "      <td>...</td>\n",
       "      <td>...</td>\n",
       "      <td>...</td>\n",
       "      <td>...</td>\n",
       "      <td>...</td>\n",
       "      <td>...</td>\n",
       "      <td>...</td>\n",
       "      <td>...</td>\n",
       "      <td>...</td>\n",
       "      <td>...</td>\n",
       "      <td>...</td>\n",
       "    </tr>\n",
       "    <tr>\n",
       "      <td>7059</td>\n",
       "      <td>211.0</td>\n",
       "      <td>249.341111</td>\n",
       "      <td>0.040000</td>\n",
       "      <td>3.035714</td>\n",
       "      <td>1</td>\n",
       "      <td>1.0</td>\n",
       "      <td>1.0</td>\n",
       "      <td>1.0</td>\n",
       "      <td>41.4</td>\n",
       "      <td>3.058889</td>\n",
       "    </tr>\n",
       "    <tr>\n",
       "      <td>7060</td>\n",
       "      <td>212.0</td>\n",
       "      <td>249.505556</td>\n",
       "      <td>0.037778</td>\n",
       "      <td>3.125000</td>\n",
       "      <td>1</td>\n",
       "      <td>1.0</td>\n",
       "      <td>1.0</td>\n",
       "      <td>1.0</td>\n",
       "      <td>40.4</td>\n",
       "      <td>2.894444</td>\n",
       "    </tr>\n",
       "    <tr>\n",
       "      <td>7061</td>\n",
       "      <td>212.0</td>\n",
       "      <td>249.658889</td>\n",
       "      <td>0.035556</td>\n",
       "      <td>3.196429</td>\n",
       "      <td>1</td>\n",
       "      <td>1.0</td>\n",
       "      <td>1.0</td>\n",
       "      <td>1.0</td>\n",
       "      <td>40.4</td>\n",
       "      <td>2.741111</td>\n",
       "    </tr>\n",
       "    <tr>\n",
       "      <td>7062</td>\n",
       "      <td>214.0</td>\n",
       "      <td>249.807778</td>\n",
       "      <td>0.033333</td>\n",
       "      <td>3.357143</td>\n",
       "      <td>1</td>\n",
       "      <td>1.0</td>\n",
       "      <td>1.0</td>\n",
       "      <td>1.0</td>\n",
       "      <td>38.4</td>\n",
       "      <td>2.592222</td>\n",
       "    </tr>\n",
       "    <tr>\n",
       "      <td>7063</td>\n",
       "      <td>212.0</td>\n",
       "      <td>249.955556</td>\n",
       "      <td>0.032222</td>\n",
       "      <td>2.982143</td>\n",
       "      <td>1</td>\n",
       "      <td>1.0</td>\n",
       "      <td>1.0</td>\n",
       "      <td>1.0</td>\n",
       "      <td>40.4</td>\n",
       "      <td>2.444444</td>\n",
       "    </tr>\n",
       "  </tbody>\n",
       "</table>\n",
       "<p>7064 rows × 10 columns</p>\n",
       "</div>"
      ],
      "text/plain": [
       "      gray_pixel_value  mean_gray_pixel_value  bin_percentage_colored  \\\n",
       "0                199.0             218.904444                0.025556   \n",
       "1                196.0             213.333333                0.031111   \n",
       "2                194.0             207.853333                0.037778   \n",
       "3                198.0             204.863333                0.063333   \n",
       "4                199.0             201.814444                0.116667   \n",
       "...                ...                    ...                     ...   \n",
       "7059             211.0             249.341111                0.040000   \n",
       "7060             212.0             249.505556                0.037778   \n",
       "7061             212.0             249.658889                0.035556   \n",
       "7062             214.0             249.807778                0.033333   \n",
       "7063             212.0             249.955556                0.032222   \n",
       "\n",
       "      sobel_gradient  label  label_t1  label_t2  label_t3  pixel_diff  \\\n",
       "0           0.107143      1      -1.0      -1.0      -1.0         1.2   \n",
       "1           0.107143      1       1.0      -1.0      -1.0         4.2   \n",
       "2           0.107143      1       1.0       1.0      -1.0         6.2   \n",
       "3           0.107143      1       1.0       1.0       1.0         2.2   \n",
       "4           0.107143      1       1.0       1.0       1.0         1.2   \n",
       "...              ...    ...       ...       ...       ...         ...   \n",
       "7059        3.035714      1       1.0       1.0       1.0        41.4   \n",
       "7060        3.125000      1       1.0       1.0       1.0        40.4   \n",
       "7061        3.196429      1       1.0       1.0       1.0        40.4   \n",
       "7062        3.357143      1       1.0       1.0       1.0        38.4   \n",
       "7063        2.982143      1       1.0       1.0       1.0        40.4   \n",
       "\n",
       "      mean_pixel_diff  \n",
       "0          -18.704444  \n",
       "1          -13.133333  \n",
       "2           -7.653333  \n",
       "3           -4.663333  \n",
       "4           -1.614444  \n",
       "...               ...  \n",
       "7059         3.058889  \n",
       "7060         2.894444  \n",
       "7061         2.741111  \n",
       "7062         2.592222  \n",
       "7063         2.444444  \n",
       "\n",
       "[7064 rows x 10 columns]"
      ]
     },
     "execution_count": 69,
     "metadata": {},
     "output_type": "execute_result"
    }
   ],
   "source": [
    "result"
   ]
  },
  {
   "cell_type": "code",
   "execution_count": null,
   "metadata": {},
   "outputs": [],
   "source": []
  }
 ],
 "metadata": {
  "kernelspec": {
   "display_name": "Python 3",
   "language": "python",
   "name": "python3"
  },
  "language_info": {
   "codemirror_mode": {
    "name": "ipython",
    "version": 3
   },
   "file_extension": ".py",
   "mimetype": "text/x-python",
   "name": "python",
   "nbconvert_exporter": "python",
   "pygments_lexer": "ipython3",
   "version": "3.7.0"
  }
 },
 "nbformat": 4,
 "nbformat_minor": 2
}
