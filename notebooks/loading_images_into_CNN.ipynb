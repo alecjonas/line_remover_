{
 "cells": [
  {
   "cell_type": "code",
   "execution_count": 7,
   "metadata": {},
   "outputs": [],
   "source": [
    "from tensorflow.keras.layers import Conv2D, MaxPooling2D\n",
    "from tensorflow.keras.datasets import cifar10\n",
    "from tensorflow.keras.utils import to_categorical\n",
    "from tensorflow.keras.optimizers import RMSprop\n",
    "from tensorflow.keras.preprocessing.image import ImageDataGenerator\n",
    "from skimage import io, color, filters\n",
    "from skimage.transform import resize, rotate\n",
    "from scipy.misc import imread\n",
    "import matplotlib.pyplot as plt"
   ]
  },
  {
   "cell_type": "code",
   "execution_count": 2,
   "metadata": {},
   "outputs": [],
   "source": [
    "train_datagen = ImageDataGenerator(rescale=1./255)"
   ]
  },
  {
   "cell_type": "code",
   "execution_count": 4,
   "metadata": {},
   "outputs": [
    {
     "name": "stdout",
     "output_type": "stream",
     "text": [
      "Found 7094 images belonging to 2 classes.\n"
     ]
    }
   ],
   "source": [
    "train_generator = train_datagen.flow_from_directory(\n",
    "        '../data/gray/all/',\n",
    "        target_size=(30, 30),\n",
    "        batch_size=1,\n",
    "        class_mode='binary',\n",
    "        shuffle=True)"
   ]
  },
  {
   "cell_type": "code",
   "execution_count": 5,
   "metadata": {},
   "outputs": [
    {
     "data": {
      "text/plain": [
       "<matplotlib.image.AxesImage at 0x7f2904cb08d0>"
      ]
     },
     "execution_count": 5,
     "metadata": {},
     "output_type": "execute_result"
    },
    {
     "data": {
      "image/png": "[encoded data removed]",
      "text/plain": [
       "<Figure size 432x288 with 1 Axes>"
      ]
     },
     "metadata": {
      "needs_background": "light"
     },
     "output_type": "display_data"
    }
   ],
   "source": [
    "x,y = train_generator.next()\n",
    "io.imshow(x[0])\n"
   ]
  },
  {
   "cell_type": "code",
   "execution_count": 9,
   "metadata": {},
   "outputs": [
    {
     "data": {
      "text/plain": [
       "array([[[0.6156863 , 0.6156863 , 0.6156863 ],\n",
       "        [0.7960785 , 0.7960785 , 0.7960785 ],\n",
       "        [0.8745099 , 0.8745099 , 0.8745099 ],\n",
       "        ...,\n",
       "        [0.7254902 , 0.7254902 , 0.7254902 ],\n",
       "        [0.7254902 , 0.7254902 , 0.7254902 ],\n",
       "        [0.7254902 , 0.7254902 , 0.7254902 ]],\n",
       "\n",
       "       [[0.8235295 , 0.8235295 , 0.8235295 ],\n",
       "        [0.8470589 , 0.8470589 , 0.8470589 ],\n",
       "        [0.8470589 , 0.8470589 , 0.8470589 ],\n",
       "        ...,\n",
       "        [0.7254902 , 0.7254902 , 0.7254902 ],\n",
       "        [0.7254902 , 0.7254902 , 0.7254902 ],\n",
       "        [0.7254902 , 0.7254902 , 0.7254902 ]],\n",
       "\n",
       "       [[0.8745099 , 0.8745099 , 0.8745099 ],\n",
       "        [0.8745099 , 0.8745099 , 0.8745099 ],\n",
       "        [0.76470596, 0.76470596, 0.76470596],\n",
       "        ...,\n",
       "        [0.7254902 , 0.7254902 , 0.7254902 ],\n",
       "        [0.7254902 , 0.7254902 , 0.7254902 ],\n",
       "        [0.7254902 , 0.7254902 , 0.7254902 ]],\n",
       "\n",
       "       ...,\n",
       "\n",
       "       [[0.8470589 , 0.8470589 , 0.8470589 ],\n",
       "        [0.8470589 , 0.8470589 , 0.8470589 ],\n",
       "        [0.8745099 , 0.8745099 , 0.8745099 ],\n",
       "        ...,\n",
       "        [0.7254902 , 0.7254902 , 0.7254902 ],\n",
       "        [0.7254902 , 0.7254902 , 0.7254902 ],\n",
       "        [0.7254902 , 0.7254902 , 0.7254902 ]],\n",
       "\n",
       "       [[0.92549026, 0.92549026, 0.92549026],\n",
       "        [0.92549026, 0.92549026, 0.92549026],\n",
       "        [0.8980393 , 0.8980393 , 0.8980393 ],\n",
       "        ...,\n",
       "        [0.7254902 , 0.7254902 , 0.7254902 ],\n",
       "        [0.7254902 , 0.7254902 , 0.7254902 ],\n",
       "        [0.7254902 , 0.7254902 , 0.7254902 ]],\n",
       "\n",
       "       [[0.92549026, 0.92549026, 0.92549026],\n",
       "        [0.8470589 , 0.8470589 , 0.8470589 ],\n",
       "        [0.8745099 , 0.8745099 , 0.8745099 ],\n",
       "        ...,\n",
       "        [0.7254902 , 0.7254902 , 0.7254902 ],\n",
       "        [0.7254902 , 0.7254902 , 0.7254902 ],\n",
       "        [0.7254902 , 0.7254902 , 0.7254902 ]]], dtype=float32)"
      ]
     },
     "execution_count": 9,
     "metadata": {},
     "output_type": "execute_result"
    }
   ],
   "source": [
    "x[0]"
   ]
  },
  {
   "cell_type": "code",
   "execution_count": null,
   "metadata": {},
   "outputs": [],
   "source": []
  }
 ],
 "metadata": {
  "kernelspec": {
   "display_name": "Python 3",
   "language": "python",
   "name": "python3"
  },
  "language_info": {
   "codemirror_mode": {
    "name": "ipython",
    "version": 3
   },
   "file_extension": ".py",
   "mimetype": "text/x-python",
   "name": "python",
   "nbconvert_exporter": "python",
   "pygments_lexer": "ipython3",
   "version": "3.5.2"
  }
 },
 "nbformat": 4,
 "nbformat_minor": 2
}
