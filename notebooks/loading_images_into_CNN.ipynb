{
 "cells": [
  {
   "cell_type": "code",
   "execution_count": 13,
   "metadata": {},
   "outputs": [],
   "source": [
    "import tensorflow as tf\n",
    "from tensorflow.keras.layers import Conv2D, MaxPooling2D\n",
    "from tensorflow.keras.datasets import cifar10\n",
    "from tensorflow.keras.utils import to_categorical\n",
    "from tensorflow.image import rgb_to_grayscale, decode_jpeg\n",
    "from tensorflow.keras.optimizers import RMSprop\n",
    "from tensorflow.keras.preprocessing.image import ImageDataGenerator\n",
    "from skimage import io, color, filters\n",
    "from skimage.transform import resize, rotate\n",
    "from scipy.misc import imread\n",
    "import matplotlib.pyplot as plt"
   ]
  },
  {
   "cell_type": "code",
   "execution_count": 14,
   "metadata": {},
   "outputs": [
    {
     "data": {
      "text/plain": [
       "<tf.Tensor: id=16, shape=(30, 30, 4), dtype=uint8, numpy=\n",
       "array([[[255, 255, 255, 255],\n",
       "        [130, 130, 130, 255],\n",
       "        [125, 125, 125, 255],\n",
       "        ...,\n",
       "        [130, 130, 130, 255],\n",
       "        [121, 121, 121, 255],\n",
       "        [121, 121, 121, 255]],\n",
       "\n",
       "       [[255, 255, 255, 255],\n",
       "        [125, 125, 125, 255],\n",
       "        [117, 117, 117, 255],\n",
       "        ...,\n",
       "        [113, 113, 113, 255],\n",
       "        [117, 117, 117, 255],\n",
       "        [117, 117, 117, 255]],\n",
       "\n",
       "       [[255, 255, 255, 255],\n",
       "        [117, 117, 117, 255],\n",
       "        [117, 117, 117, 255],\n",
       "        ...,\n",
       "        [109, 109, 109, 255],\n",
       "        [105, 105, 105, 255],\n",
       "        [113, 113, 113, 255]],\n",
       "\n",
       "       ...,\n",
       "\n",
       "       [[255, 255, 255, 255],\n",
       "        [130, 130, 130, 255],\n",
       "        [121, 121, 121, 255],\n",
       "        ...,\n",
       "        [138, 138, 138, 255],\n",
       "        [125, 125, 125, 255],\n",
       "        [130, 130, 130, 255]],\n",
       "\n",
       "       [[255, 255, 255, 255],\n",
       "        [125, 125, 125, 255],\n",
       "        [125, 125, 125, 255],\n",
       "        ...,\n",
       "        [121, 121, 121, 255],\n",
       "        [121, 121, 121, 255],\n",
       "        [113, 113, 113, 255]],\n",
       "\n",
       "       [[255, 255, 255, 255],\n",
       "        [117, 117, 117, 255],\n",
       "        [121, 121, 121, 255],\n",
       "        ...,\n",
       "        [130, 130, 130, 255],\n",
       "        [130, 130, 130, 255],\n",
       "        [125, 125, 125, 255]]], dtype=uint8)>"
      ]
     },
     "execution_count": 14,
     "metadata": {},
     "output_type": "execute_result"
    }
   ],
   "source": [
    "decode_jpeg(tf.io.read_file('../data/gray/all/lines/164_img_239_14.png'))"
   ]
  },
  {
   "cell_type": "code",
   "execution_count": 15,
   "metadata": {},
   "outputs": [],
   "source": [
    "import pdb\n",
    "\n",
    "def prep_data(x):\n",
    "    pdb.set_trace()\n",
    "    gray = rgb_to_grayscale(x)\n",
    "    return gray"
   ]
  },
  {
   "cell_type": "code",
   "execution_count": 16,
   "metadata": {},
   "outputs": [],
   "source": [
    "train_datagen = ImageDataGenerator(rescale=1./255)"
   ]
  },
  {
   "cell_type": "code",
   "execution_count": 22,
   "metadata": {},
   "outputs": [
    {
     "name": "stdout",
     "output_type": "stream",
     "text": [
      "Found 7094 images belonging to 2 classes.\n"
     ]
    }
   ],
   "source": [
    "train_generator = train_datagen.flow_from_directory(\n",
    "        '../data/gray/all/',\n",
    "        target_size=(30, 30),\n",
    "        color_mode = 'grayscale',\n",
    "        batch_size=1,\n",
    "        class_mode='binary',\n",
    "        shuffle=True)"
   ]
  },
  {
   "cell_type": "code",
   "execution_count": 66,
   "metadata": {},
   "outputs": [],
   "source": [
    "x,y = train_generator.next()\n",
    "x = x.reshape((30, 30))"
   ]
  },
  {
   "cell_type": "code",
   "execution_count": 67,
   "metadata": {},
   "outputs": [
    {
     "data": {
      "text/plain": [
       "(30, 30)"
      ]
     },
     "execution_count": 67,
     "metadata": {},
     "output_type": "execute_result"
    }
   ],
   "source": [
    "x.shape"
   ]
  },
  {
   "cell_type": "code",
   "execution_count": 68,
   "metadata": {},
   "outputs": [
    {
     "data": {
      "text/plain": [
       "<matplotlib.image.AxesImage at 0x7f69fbf58b00>"
      ]
     },
     "execution_count": 68,
     "metadata": {},
     "output_type": "execute_result"
    },
    {
     "data": {
      "image/png": "[encoded data removed]",
      "text/plain": [
       "<Figure size 432x288 with 2 Axes>"
      ]
     },
     "metadata": {
      "needs_background": "light"
     },
     "output_type": "display_data"
    }
   ],
   "source": [
    "io.imshow(x*255, cmap = 'gray')"
   ]
  },
  {
   "cell_type": "code",
   "execution_count": 69,
   "metadata": {},
   "outputs": [
    {
     "data": {
      "text/plain": [
       "array([[0.97647065, 0.95294124, 0.95294124, 0.95294124, 0.97647065,\n",
       "        0.95294124, 0.9294118 , 0.95294124, 0.95294124, 0.95294124,\n",
       "        0.95294124, 0.95294124, 0.95294124, 1.        , 0.95294124,\n",
       "        0.9294118 , 0.95294124, 0.95294124, 0.95294124, 0.97647065,\n",
       "        0.9294118 , 0.9294118 , 0.95294124, 0.97647065, 0.97647065,\n",
       "        0.95294124, 0.9294118 , 0.9294118 , 0.9294118 , 0.95294124],\n",
       "       [0.9294118 , 0.95294124, 0.882353  , 0.9294118 , 0.882353  ,\n",
       "        0.9058824 , 0.97647065, 0.97647065, 0.95294124, 0.97647065,\n",
       "        0.97647065, 0.97647065, 0.97647065, 0.95294124, 0.9294118 ,\n",
       "        0.95294124, 0.95294124, 0.95294124, 0.9294118 , 0.9294118 ,\n",
       "        0.9294118 , 0.9058824 , 0.9294118 , 0.95294124, 0.9294118 ,\n",
       "        0.9294118 , 0.95294124, 0.97647065, 0.97647065, 0.9294118 ],\n",
       "       [0.9294118 , 0.9294118 , 0.882353  , 0.9294118 , 0.882353  ,\n",
       "        0.8588236 , 0.9294118 , 0.9294118 , 0.9294118 , 0.95294124,\n",
       "        0.95294124, 0.9294118 , 0.9294118 , 0.95294124, 0.95294124,\n",
       "        0.97647065, 0.9294118 , 0.95294124, 0.9294118 , 0.9294118 ,\n",
       "        0.9294118 , 0.9294118 , 0.9294118 , 0.9294118 , 0.97647065,\n",
       "        1.        , 1.        , 0.97647065, 0.97647065, 0.97647065],\n",
       "       [0.9294118 , 0.9294118 , 0.9294118 , 0.9294118 , 0.9294118 ,\n",
       "        0.95294124, 0.95294124, 0.95294124, 0.9058824 , 0.9058824 ,\n",
       "        0.9058824 , 0.9058824 , 0.9294118 , 0.9294118 , 0.9294118 ,\n",
       "        0.882353  , 0.9294118 , 0.95294124, 0.95294124, 0.95294124,\n",
       "        0.97647065, 0.95294124, 0.95294124, 0.9294118 , 0.9294118 ,\n",
       "        0.9294118 , 0.9058824 , 0.9294118 , 0.9058824 , 0.97647065],\n",
       "       [0.9058824 , 0.9058824 , 0.9058824 , 0.9058824 , 0.9058824 ,\n",
       "        0.9294118 , 0.9058824 , 0.9058824 , 0.95294124, 0.9294118 ,\n",
       "        0.9058824 , 0.9058824 , 0.9058824 , 0.9058824 , 0.9294118 ,\n",
       "        0.9294118 , 0.95294124, 0.97647065, 0.95294124, 0.95294124,\n",
       "        0.95294124, 0.9294118 , 0.95294124, 0.95294124, 0.9294118 ,\n",
       "        0.9294118 , 0.9294118 , 0.9294118 , 0.9294118 , 0.9058824 ],\n",
       "       [0.882353  , 0.9294118 , 0.9294118 , 0.882353  , 0.9294118 ,\n",
       "        0.97647065, 0.9058824 , 0.882353  , 0.9058824 , 0.9294118 ,\n",
       "        0.9294118 , 0.882353  , 0.8588236 , 0.9058824 , 0.9058824 ,\n",
       "        0.9294118 , 0.9294118 , 0.882353  , 0.9294118 , 0.9294118 ,\n",
       "        0.95294124, 0.95294124, 0.9294118 , 0.95294124, 0.95294124,\n",
       "        0.95294124, 0.95294124, 0.95294124, 0.95294124, 0.9294118 ],\n",
       "       [0.95294124, 0.9294118 , 0.9058824 , 0.9058824 , 0.95294124,\n",
       "        0.9058824 , 0.9058824 , 0.95294124, 0.9294118 , 0.9294118 ,\n",
       "        0.97647065, 0.97647065, 0.9294118 , 0.9294118 , 0.9058824 ,\n",
       "        0.9294118 , 0.882353  , 0.882353  , 0.9294118 , 0.95294124,\n",
       "        0.97647065, 0.97647065, 0.97647065, 0.95294124, 0.95294124,\n",
       "        0.9058824 , 0.9058824 , 0.882353  , 0.9058824 , 0.95294124],\n",
       "       [0.9294118 , 0.9294118 , 0.95294124, 0.9294118 , 0.9058824 ,\n",
       "        0.9058824 , 0.95294124, 0.95294124, 0.9294118 , 0.95294124,\n",
       "        0.9294118 , 0.95294124, 1.        , 0.97647065, 0.97647065,\n",
       "        0.97647065, 0.95294124, 0.95294124, 0.95294124, 0.97647065,\n",
       "        0.95294124, 0.95294124, 0.95294124, 0.9294118 , 0.95294124,\n",
       "        0.8117648 , 0.9294118 , 0.95294124, 0.9294118 , 0.9294118 ],\n",
       "       [0.9058824 , 0.882353  , 0.882353  , 0.9058824 , 0.9294118 ,\n",
       "        0.9058824 , 0.882353  , 0.9058824 , 0.9294118 , 0.9294118 ,\n",
       "        0.95294124, 0.95294124, 0.9294118 , 0.9294118 , 0.9058824 ,\n",
       "        0.9294118 , 0.95294124, 0.95294124, 0.9058824 , 0.9294118 ,\n",
       "        0.9294118 , 0.9058824 , 0.9294118 , 0.95294124, 0.9294118 ,\n",
       "        0.882353  , 0.9294118 , 0.9294118 , 0.95294124, 0.95294124],\n",
       "       [0.8352942 , 0.8588236 , 0.882353  , 0.9058824 , 0.9058824 ,\n",
       "        0.9294118 , 0.9294118 , 0.9294118 , 0.9294118 , 0.9294118 ,\n",
       "        0.95294124, 0.9294118 , 0.9058824 , 0.95294124, 0.9294118 ,\n",
       "        0.9294118 , 0.95294124, 0.97647065, 0.97647065, 0.9294118 ,\n",
       "        0.9294118 , 0.9294118 , 0.9058824 , 0.9294118 , 0.95294124,\n",
       "        0.9294118 , 0.9058824 , 0.9294118 , 0.9294118 , 0.95294124],\n",
       "       [0.9058824 , 0.9058824 , 0.95294124, 0.95294124, 0.9058824 ,\n",
       "        0.882353  , 0.9058824 , 0.882353  , 0.9058824 , 0.9294118 ,\n",
       "        0.9058824 , 0.9058824 , 0.9058824 , 0.9058824 , 0.9294118 ,\n",
       "        0.9294118 , 0.882353  , 0.9294118 , 0.882353  , 0.9058824 ,\n",
       "        0.9294118 , 0.9294118 , 0.9294118 , 0.9294118 , 0.9294118 ,\n",
       "        0.95294124, 0.95294124, 0.95294124, 0.9058824 , 0.9294118 ],\n",
       "       [0.9058824 , 0.882353  , 0.9294118 , 0.9294118 , 0.9058824 ,\n",
       "        0.9294118 , 0.95294124, 0.95294124, 0.9058824 , 0.9058824 ,\n",
       "        0.882353  , 0.882353  , 0.882353  , 0.9294118 , 0.9058824 ,\n",
       "        0.8588236 , 0.9058824 , 0.95294124, 0.95294124, 0.95294124,\n",
       "        0.95294124, 0.95294124, 0.95294124, 0.9294118 , 0.9058824 ,\n",
       "        0.8588236 , 0.9058824 , 0.882353  , 0.882353  , 0.9058824 ],\n",
       "       [0.9294118 , 0.9294118 , 0.9058824 , 0.8352942 , 0.8588236 ,\n",
       "        0.882353  , 0.9058824 , 0.8588236 , 0.8352942 , 0.8352942 ,\n",
       "        0.882353  , 0.9058824 , 0.8588236 , 0.882353  , 0.9058824 ,\n",
       "        0.9058824 , 0.9294118 , 0.9058824 , 0.95294124, 0.9294118 ,\n",
       "        0.8588236 , 0.882353  , 0.882353  , 0.882353  , 0.8588236 ,\n",
       "        0.8117648 , 0.8588236 , 0.8588236 , 0.8588236 , 0.8352942 ],\n",
       "       [0.8352942 , 0.882353  , 0.8352942 , 0.8352942 , 0.8352942 ,\n",
       "        0.8352942 , 0.8588236 , 0.8588236 , 0.882353  , 0.882353  ,\n",
       "        0.8588236 , 0.8588236 , 0.8117648 , 0.8588236 , 0.8588236 ,\n",
       "        0.8352942 , 0.8352942 , 0.8117648 , 0.8117648 , 0.8117648 ,\n",
       "        0.8352942 , 0.8588236 , 0.8352942 , 0.8588236 , 0.882353  ,\n",
       "        0.882353  , 0.8588236 , 0.8588236 , 0.8588236 , 0.9058824 ],\n",
       "       [0.6901961 , 0.6666667 , 0.6666667 , 0.6392157 , 0.57254905,\n",
       "        0.57254905, 0.45098042, 0.3803922 , 0.5254902 , 0.57254905,\n",
       "        0.57254905, 0.57254905, 0.6666667 , 0.6666667 , 0.61960787,\n",
       "        0.57254905, 0.54901963, 0.57254905, 0.61960787, 0.6666667 ,\n",
       "        0.59607846, 0.57254905, 0.57254905, 0.61960787, 0.5254902 ,\n",
       "        0.54901963, 0.57254905, 0.57254905, 0.47450984, 0.427451  ],\n",
       "       [0.16470589, 0.21176472, 0.14117648, 0.14117648, 0.04705883,\n",
       "        0.09411766, 0.09411766, 0.07058824, 0.09411766, 0.2627451 ,\n",
       "        0.11764707, 0.09411766, 0.16470589, 0.04705883, 0.04705883,\n",
       "        0.07058824, 0.07058824, 0.14117648, 0.21176472, 0.16470589,\n",
       "        0.23529413, 0.02352941, 0.07058824, 0.16470589, 0.09411766,\n",
       "        0.09411766, 0.09411766, 0.18823531, 0.09411766, 0.        ],\n",
       "       [0.7372549 , 0.7372549 , 0.78823537, 0.76470596, 0.76470596,\n",
       "        0.76470596, 0.78823537, 0.8117648 , 0.8117648 , 0.78823537,\n",
       "        0.76470596, 0.8117648 , 0.7372549 , 0.7137255 , 0.7137255 ,\n",
       "        0.78823537, 0.78823537, 0.8117648 , 0.8352942 , 0.78823537,\n",
       "        0.8352942 , 0.78823537, 0.8117648 , 0.882353  , 0.8352942 ,\n",
       "        0.78823537, 0.76470596, 0.78823537, 0.78823537, 0.8352942 ],\n",
       "       [0.9294118 , 0.9058824 , 0.9058824 , 0.9294118 , 0.9058824 ,\n",
       "        0.95294124, 0.9294118 , 0.9294118 , 0.9058824 , 0.95294124,\n",
       "        1.        , 0.95294124, 0.97647065, 0.97647065, 0.97647065,\n",
       "        0.95294124, 0.97647065, 0.95294124, 0.882353  , 0.9058824 ,\n",
       "        0.9294118 , 0.95294124, 0.9294118 , 0.9294118 , 0.9058824 ,\n",
       "        0.95294124, 0.95294124, 0.95294124, 0.9294118 , 0.97647065],\n",
       "       [0.8588236 , 0.9058824 , 0.9058824 , 0.9294118 , 0.9294118 ,\n",
       "        0.9058824 , 0.9294118 , 0.9058824 , 0.9294118 , 0.95294124,\n",
       "        0.9294118 , 0.9058824 , 0.9058824 , 0.95294124, 0.9294118 ,\n",
       "        0.9294118 , 0.9058824 , 0.9058824 , 0.95294124, 0.97647065,\n",
       "        0.97647065, 0.95294124, 0.97647065, 0.95294124, 0.95294124,\n",
       "        0.97647065, 0.9294118 , 0.95294124, 0.95294124, 0.9294118 ],\n",
       "       [0.9058824 , 0.9294118 , 0.95294124, 0.9294118 , 0.9294118 ,\n",
       "        0.9058824 , 0.95294124, 0.9294118 , 0.9294118 , 0.882353  ,\n",
       "        0.9294118 , 0.95294124, 0.9058824 , 0.9058824 , 0.95294124,\n",
       "        0.95294124, 0.95294124, 0.97647065, 0.97647065, 0.95294124,\n",
       "        0.97647065, 1.        , 0.97647065, 0.95294124, 0.97647065,\n",
       "        0.97647065, 0.95294124, 0.97647065, 0.97647065, 0.97647065],\n",
       "       [0.9294118 , 0.9058824 , 0.9294118 , 0.95294124, 0.95294124,\n",
       "        0.95294124, 0.95294124, 0.95294124, 0.95294124, 0.95294124,\n",
       "        0.9294118 , 0.95294124, 0.97647065, 0.9294118 , 0.9294118 ,\n",
       "        0.9294118 , 0.97647065, 0.97647065, 0.97647065, 0.97647065,\n",
       "        0.97647065, 0.97647065, 0.95294124, 0.95294124, 0.95294124,\n",
       "        0.97647065, 0.97647065, 0.95294124, 0.9294118 , 0.95294124],\n",
       "       [0.9294118 , 0.9294118 , 0.9294118 , 0.95294124, 0.97647065,\n",
       "        0.97647065, 0.95294124, 0.95294124, 0.95294124, 0.95294124,\n",
       "        0.97647065, 0.97647065, 0.95294124, 0.9294118 , 0.97647065,\n",
       "        0.95294124, 0.95294124, 0.97647065, 0.9294118 , 0.9294118 ,\n",
       "        0.95294124, 0.95294124, 0.97647065, 0.95294124, 0.97647065,\n",
       "        0.97647065, 0.95294124, 0.95294124, 0.95294124, 0.9058824 ],\n",
       "       [0.95294124, 0.9294118 , 0.95294124, 0.97647065, 0.9294118 ,\n",
       "        0.9294118 , 0.95294124, 0.95294124, 0.95294124, 0.9294118 ,\n",
       "        0.95294124, 0.95294124, 0.95294124, 0.97647065, 0.97647065,\n",
       "        0.95294124, 0.95294124, 0.97647065, 0.97647065, 0.97647065,\n",
       "        0.95294124, 0.9294118 , 0.97647065, 0.97647065, 0.97647065,\n",
       "        0.9294118 , 0.95294124, 0.95294124, 1.        , 1.        ],\n",
       "       [0.9294118 , 0.9294118 , 0.9294118 , 0.95294124, 0.9294118 ,\n",
       "        0.9294118 , 0.95294124, 0.95294124, 0.95294124, 0.95294124,\n",
       "        0.9294118 , 0.97647065, 0.9294118 , 0.95294124, 0.95294124,\n",
       "        0.95294124, 0.95294124, 0.95294124, 0.95294124, 0.97647065,\n",
       "        0.97647065, 0.97647065, 0.97647065, 0.97647065, 0.97647065,\n",
       "        0.97647065, 0.97647065, 0.97647065, 0.95294124, 0.95294124],\n",
       "       [0.9058824 , 0.9058824 , 0.9294118 , 0.95294124, 0.95294124,\n",
       "        0.97647065, 0.95294124, 0.9294118 , 0.9294118 , 0.9058824 ,\n",
       "        0.9058824 , 0.9058824 , 0.882353  , 0.9058824 , 0.9294118 ,\n",
       "        0.9294118 , 0.9294118 , 0.97647065, 0.97647065, 0.95294124,\n",
       "        0.9294118 , 0.97647065, 0.97647065, 0.95294124, 0.95294124,\n",
       "        0.95294124, 0.97647065, 0.95294124, 0.95294124, 0.9294118 ],\n",
       "       [0.95294124, 0.95294124, 0.97647065, 0.95294124, 0.95294124,\n",
       "        0.97647065, 0.97647065, 0.9294118 , 0.9294118 , 0.882353  ,\n",
       "        0.9058824 , 0.9294118 , 0.95294124, 0.95294124, 0.97647065,\n",
       "        0.95294124, 0.95294124, 0.95294124, 0.97647065, 0.97647065,\n",
       "        0.95294124, 0.97647065, 0.95294124, 0.97647065, 0.97647065,\n",
       "        0.97647065, 0.9294118 , 0.9294118 , 0.97647065, 0.95294124],\n",
       "       [0.95294124, 0.9058824 , 0.95294124, 0.97647065, 0.95294124,\n",
       "        0.95294124, 0.97647065, 0.97647065, 0.95294124, 0.95294124,\n",
       "        0.97647065, 0.95294124, 0.95294124, 0.97647065, 0.9294118 ,\n",
       "        0.9294118 , 0.97647065, 0.97647065, 0.9294118 , 0.95294124,\n",
       "        0.97647065, 0.95294124, 0.97647065, 1.        , 0.97647065,\n",
       "        1.        , 0.95294124, 0.97647065, 0.95294124, 0.9294118 ],\n",
       "       [0.95294124, 0.9294118 , 0.95294124, 0.9294118 , 0.9294118 ,\n",
       "        0.9294118 , 0.9294118 , 0.9294118 , 0.95294124, 0.95294124,\n",
       "        0.97647065, 0.95294124, 0.95294124, 0.95294124, 0.97647065,\n",
       "        0.9294118 , 0.95294124, 1.        , 1.        , 0.97647065,\n",
       "        0.97647065, 0.97647065, 0.97647065, 0.9294118 , 0.95294124,\n",
       "        0.97647065, 0.95294124, 0.97647065, 0.97647065, 0.95294124],\n",
       "       [0.9294118 , 0.9294118 , 0.9294118 , 0.95294124, 0.95294124,\n",
       "        0.97647065, 0.97647065, 0.95294124, 1.        , 0.95294124,\n",
       "        0.9294118 , 0.95294124, 0.95294124, 0.95294124, 1.        ,\n",
       "        1.        , 0.97647065, 0.95294124, 0.95294124, 0.95294124,\n",
       "        0.9294118 , 0.97647065, 0.97647065, 0.95294124, 0.97647065,\n",
       "        0.97647065, 0.97647065, 0.9294118 , 0.97647065, 1.        ],\n",
       "       [0.9058824 , 0.9058824 , 0.9294118 , 0.9294118 , 0.97647065,\n",
       "        0.97647065, 0.97647065, 0.95294124, 0.95294124, 0.95294124,\n",
       "        0.95294124, 0.95294124, 0.95294124, 0.95294124, 0.9294118 ,\n",
       "        0.9058824 , 0.9058824 , 0.9058824 , 0.9058824 , 0.95294124,\n",
       "        0.95294124, 0.9294118 , 0.9294118 , 1.        , 0.95294124,\n",
       "        0.97647065, 0.97647065, 0.9294118 , 0.95294124, 0.95294124]],\n",
       "      dtype=float32)"
      ]
     },
     "execution_count": 69,
     "metadata": {},
     "output_type": "execute_result"
    }
   ],
   "source": [
    "x"
   ]
  },
  {
   "cell_type": "code",
   "execution_count": 49,
   "metadata": {},
   "outputs": [],
   "source": [
    "def converter(x):\n",
    "\n",
    "    weights = K.constant([[[[0.21 , 0.72 , 0.07]]]])\n",
    "    return K.sum(x*weights, axis=-1,keepdims=True)"
   ]
  },
  {
   "cell_type": "code",
   "execution_count": null,
   "metadata": {},
   "outputs": [],
   "source": []
  },
  {
   "cell_type": "code",
   "execution_count": 77,
   "metadata": {},
   "outputs": [
    {
     "name": "stderr",
     "output_type": "stream",
     "text": [
      "/usr/local/lib/python3.5/dist-packages/ipykernel_launcher.py:1: DeprecationWarning: `imread` is deprecated!\n",
      "`imread` is deprecated in SciPy 1.0.0, and will be removed in 1.2.0.\n",
      "Use ``imageio.imread`` instead.\n",
      "  \"\"\"Entry point for launching an IPython kernel.\n"
     ]
    }
   ],
   "source": [
    "x = imread('../data/gray/all/lines/183_img_300_353.png')"
   ]
  },
  {
   "cell_type": "code",
   "execution_count": 78,
   "metadata": {},
   "outputs": [
    {
     "data": {
      "text/plain": [
       "(30, 30, 4)"
      ]
     },
     "execution_count": 78,
     "metadata": {},
     "output_type": "execute_result"
    }
   ],
   "source": [
    "x.shape"
   ]
  },
  {
   "cell_type": "code",
   "execution_count": 81,
   "metadata": {},
   "outputs": [
    {
     "data": {
      "text/plain": [
       "(30, 30, 3)"
      ]
     },
     "execution_count": 81,
     "metadata": {},
     "output_type": "execute_result"
    }
   ],
   "source": [
    "x[:, :, :3]"
   ]
  },
  {
   "cell_type": "code",
   "execution_count": 84,
   "metadata": {},
   "outputs": [
    {
     "data": {
      "text/plain": [
       "<matplotlib.image.AxesImage at 0x7efd422a4860>"
      ]
     },
     "execution_count": 84,
     "metadata": {},
     "output_type": "execute_result"
    },
    {
     "data": {
      "image/png": "[encoded data removed]",
      "text/plain": [
       "<Figure size 432x288 with 1 Axes>"
      ]
     },
     "metadata": {
      "needs_background": "light"
     },
     "output_type": "display_data"
    }
   ],
   "source": [
    "plt.imshow(x[:, :, :3])"
   ]
  },
  {
   "cell_type": "code",
   "execution_count": 49,
   "metadata": {},
   "outputs": [
    {
     "data": {
      "text/plain": [
       "array([[[ 86,  86,  86, 255],\n",
       "        [ 54,  54,  54, 255],\n",
       "        [ 44,  44,  44, 255],\n",
       "        ...,\n",
       "        [240, 240, 240, 255],\n",
       "        [251, 251, 251, 255],\n",
       "        [173, 173, 173, 255]],\n",
       "\n",
       "       [[140, 140, 140, 255],\n",
       "        [ 30,  30,  30, 255],\n",
       "        [160, 160, 160, 255],\n",
       "        ...,\n",
       "        [239, 239, 239, 255],\n",
       "        [246, 246, 246, 255],\n",
       "        [190, 190, 190, 255]],\n",
       "\n",
       "       [[115, 115, 115, 255],\n",
       "        [109, 109, 109, 255],\n",
       "        [242, 242, 242, 255],\n",
       "        ...,\n",
       "        [237, 237, 237, 255],\n",
       "        [251, 251, 251, 255],\n",
       "        [207, 207, 207, 255]],\n",
       "\n",
       "       ...,\n",
       "\n",
       "       [[217, 217, 217, 255],\n",
       "        [ 44,  44,  44, 255],\n",
       "        [ 52,  52,  52, 255],\n",
       "        ...,\n",
       "        [103, 103, 103, 255],\n",
       "        [216, 216, 216, 255],\n",
       "        [248, 248, 248, 255]],\n",
       "\n",
       "       [[ 89,  89,  89, 255],\n",
       "        [ 24,  24,  24, 255],\n",
       "        [ 73,  73,  73, 255],\n",
       "        ...,\n",
       "        [134, 134, 134, 255],\n",
       "        [255, 255, 255, 255],\n",
       "        [243, 243, 243, 255]],\n",
       "\n",
       "       [[ 27,  27,  27, 255],\n",
       "        [ 32,  32,  32, 255],\n",
       "        [108, 108, 108, 255],\n",
       "        ...,\n",
       "        [211, 211, 211, 255],\n",
       "        [251, 251, 251, 255],\n",
       "        [245, 245, 245, 255]]], dtype=uint8)"
      ]
     },
     "execution_count": 49,
     "metadata": {},
     "output_type": "execute_result"
    }
   ],
   "source": []
  },
  {
   "cell_type": "code",
   "execution_count": null,
   "metadata": {},
   "outputs": [],
   "source": []
  }
 ],
 "metadata": {
  "kernelspec": {
   "display_name": "Python 3",
   "language": "python",
   "name": "python3"
  },
  "language_info": {
   "codemirror_mode": {
    "name": "ipython",
    "version": 3
   },
   "file_extension": ".py",
   "mimetype": "text/x-python",
   "name": "python",
   "nbconvert_exporter": "python",
   "pygments_lexer": "ipython3",
   "version": "3.5.2"
  }
 },
 "nbformat": 4,
 "nbformat_minor": 2
}
