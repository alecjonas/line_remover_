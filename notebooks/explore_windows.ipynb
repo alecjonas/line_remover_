{
 "cells": [
  {
   "cell_type": "code",
   "execution_count": 1,
   "metadata": {},
   "outputs": [],
   "source": [
    "import numpy as np\n",
    "import matplotlib.pyplot as plt\n",
    "import glob\n",
    "import pandas as pd\n",
    "%matplotlib inline \n",
    "\n",
    "from skimage import io, color, filters, feature, restoration\n",
    "from skimage.transform import resize, rotate\n",
    "from skimage.color import rgb2gray\n",
    "from scipy.spatial.distance import squareform\n",
    "from scipy.misc import imread\n",
    "from transparent_imshow import transp_imshow\n",
    "import matplotlib.cm as cm\n",
    "from scipy import ndimage, misc\n",
    "\n",
    "import sys\n",
    "sys.path.append(\"..\")\n"
   ]
  },
  {
   "cell_type": "code",
   "execution_count": 7,
   "metadata": {},
   "outputs": [],
   "source": [
    "lines = glob.glob('../data/gray/all/lines/*')\n",
    "drawings = glob.glob('../data/gray/all/drawings/*')"
   ]
  },
  {
   "cell_type": "code",
   "execution_count": 8,
   "metadata": {},
   "outputs": [],
   "source": [
    "whitespace_dict = {164: 200.2, 202: 200.5, 425: 208., 345: 237.4, 72: 216.2, 363: 247.7, 509: 207.9, 257: 201.2, 203: 250.8, 183: 252.4}\n",
    "lines_by_img_dict = {k: [] for k in whitespace_dict.keys()}\n",
    "drawings_by_dict = {k: [] for k in whitespace_dict.keys()}"
   ]
  },
  {
   "cell_type": "code",
   "execution_count": 20,
   "metadata": {},
   "outputs": [
    {
     "name": "stderr",
     "output_type": "stream",
     "text": [
      "/Users/reiffd/anaconda3/lib/python3.7/site-packages/ipykernel_launcher.py:3: DeprecationWarning: `imread` is deprecated!\n",
      "`imread` is deprecated in SciPy 1.0.0, and will be removed in 1.2.0.\n",
      "Use ``imageio.imread`` instead.\n",
      "  This is separate from the ipykernel package so we can avoid doing imports until\n"
     ]
    }
   ],
   "source": [
    "for file in lines:\n",
    "    file_key = int(file.split('/')[5].split('_')[0])\n",
    "    lines_by_img_dict[file_key].append(imread(file, mode = 'L'))"
   ]
  },
  {
   "cell_type": "code",
   "execution_count": 25,
   "metadata": {},
   "outputs": [],
   "source": [
    "test = np.array(lines_by_img_dict[164])"
   ]
  },
  {
   "cell_type": "code",
   "execution_count": 27,
   "metadata": {},
   "outputs": [],
   "source": [
    "def mean_pixel_intensity(img, my_dict):\n",
    "    np_arr = np.array(my_dict[img])\n",
    "    mean_pixel_intensity = np.zeros((30, 30))\n",
    "    for i in range(30):\n",
    "        for j in range(30):\n",
    "            mean_pixel_intensity[i, j] = np.mean(np_arr[:, i, j])\n",
    "    return mean_pixel_intensity\n",
    "    "
   ]
  },
  {
   "cell_type": "code",
   "execution_count": 28,
   "metadata": {},
   "outputs": [],
   "source": [
    "mean_line_164 = mean_pixel_intensity(164, lines_by_img_dict)"
   ]
  },
  {
   "cell_type": "code",
   "execution_count": 30,
   "metadata": {},
   "outputs": [
    {
     "data": {
      "text/plain": [
       "<matplotlib.image.AxesImage at 0x1c22aee5c0>"
      ]
     },
     "execution_count": 30,
     "metadata": {},
     "output_type": "execute_result"
    },
    {
     "data": {
      "image/png": "[encoded data removed]",
      "text/plain": [
       "<Figure size 432x288 with 1 Axes>"
      ]
     },
     "metadata": {
      "needs_background": "light"
     },
     "output_type": "display_data"
    }
   ],
   "source": [
    "plt.imshow(mean_line_164, cmap='gray')"
   ]
  },
  {
   "cell_type": "code",
   "execution_count": null,
   "metadata": {},
   "outputs": [],
   "source": []
  }
 ],
 "metadata": {
  "kernelspec": {
   "display_name": "Python 3",
   "language": "python",
   "name": "python3"
  },
  "language_info": {
   "codemirror_mode": {
    "name": "ipython",
    "version": 3
   },
   "file_extension": ".py",
   "mimetype": "text/x-python",
   "name": "python",
   "nbconvert_exporter": "python",
   "pygments_lexer": "ipython3",
   "version": "3.7.0"
  }
 },
 "nbformat": 4,
 "nbformat_minor": 2
}
